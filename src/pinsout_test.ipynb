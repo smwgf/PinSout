{
 "cells": [
  {
   "cell_type": "code",
   "execution_count": 1,
   "metadata": {
    "ExecuteTime": {
     "end_time": "2022-10-01T01:24:02.815949Z",
     "start_time": "2022-10-01T01:24:02.770813Z"
    }
   },
   "outputs": [],
   "source": [
    "from plyTo3Dmodel import ply_to_CityGML"
   ]
  },
  {
   "cell_type": "code",
   "execution_count": 2,
   "metadata": {},
   "outputs": [
    {
     "name": "stdout",
     "output_type": "stream",
     "text": [
      "Jupyter environment detected. Enabling Open3D WebVisualizer.\n",
      "[Open3D INFO] WebRTC GUI backend enabled.\n",
      "[Open3D INFO] WebRTCWindowSystem: HTTP handshake server disabled.\n"
     ]
    }
   ],
   "source": [
    "import pcl\n",
    "import pcl.pcl_visualization\n",
    "import open3d as o3d\n",
    "import numpy as np\n",
    "from scipy.spatial.transform import Rotation as sc_Rotation\n",
    "\n",
    "def display_numpy_color_cloud_pcl(cloud):\n",
    "    visual = pcl.pcl_visualization.CloudViewing()\n",
    "    if type(cloud).__module__ == np.__name__:\n",
    "        #         ptcloud_centred = pcl.PointCloud()\n",
    "        #         ptcloud_centred = pcl.PointCloud_PointXYZI()\n",
    "        ptcloud_centred = pcl.PointCloud_PointXYZRGBA()\n",
    "        ptcloud_centred.from_array(np.array(cloud, dtype=np.float32))\n",
    "        #         visual.ShowGrayCloud(ptcloud_centred, b'cloud')\n",
    "        visual.ShowColorACloud(ptcloud_centred, b'cloud')\n",
    "    #         visual.ShowMonochromeCloud(ptcloud_centred, b'cloud')\n",
    "    else:\n",
    "        visual.ShowMonochromeCloud(cloud, b'cloud')\n",
    "    v = True\n",
    "    while v:\n",
    "        v = not (visual.WasStopped())\n",
    "\n",
    "\n",
    "def display_numpy_cloud_pcl(cloud, visual=None):\n",
    "    wait_stop = False\n",
    "    if visual is None:\n",
    "        visual = pcl.pcl_visualization.CloudViewing()\n",
    "        wait_stop = True\n",
    "    if type(cloud).__module__ == np.__name__:\n",
    "        ptcloud_centred = pcl.PointCloud()\n",
    "        ptcloud_centred.from_array(np.array(cloud, dtype=np.float32))\n",
    "        #         visual.ShowGrayCloud(ptcloud_centred, b'cloud')\n",
    "        visual.ShowMonochromeCloud(ptcloud_centred, b'cloud')\n",
    "        while wait_stop:\n",
    "            wait_stop = not (visual.WasStopped())\n",
    "        return ptcloud_centred\n",
    "    else:\n",
    "        visual.ShowMonochromeCloud(cloud, b'cloud')\n",
    "        while wait_stop:\n",
    "            wait_stop = not (visual.WasStopped())\n",
    "        return cloud\n",
    "    \n",
    "        \n",
    "def point_cloud_to_numpy(pointcloud_path, lib='open3d'):\n",
    "    if lib == 'open3d':\n",
    "        pcd = o3d.io.read_point_cloud(pointcloud_path)\n",
    "        npcloud = np.asarray(pcd.points, dtype=np.float32)\n",
    "    else:\n",
    "        from pyntcloud import PyntCloud\n",
    "        my_point_cloud = PyntCloud.from_file(pointcloud_path)\n",
    "        npcloud = my_point_cloud.points.to_numpy()\n",
    "\n",
    "    return npcloud"
   ]
  },
  {
   "cell_type": "code",
   "execution_count": 3,
   "metadata": {},
   "outputs": [
    {
     "name": "stdout",
     "output_type": "stream",
     "text": [
      "2022-10-06 14:40:47,443 ply_to_CityGML [INFO]: Starting Process\n",
      "['test', '../data/sample_data/original_data.ply', 0.052, 0.1]\n",
      "Device mapping:\n",
      "/job:localhost/replica:0/task:0/device:XLA_CPU:0 -> device: XLA_CPU device\n",
      "/job:localhost/replica:0/task:0/device:GPU:0 -> device: 0, name: Quadro T2000, pci bus id: 0000:01:00.0, compute capability: 7.5\n",
      "/job:localhost/replica:0/task:0/device:XLA_GPU:0 -> device: XLA_GPU device\n",
      "\n",
      "INFO:tensorflow:Restoring parameters from n:\\work\\SLAM\\src\\PinSout\\src/sem_seg/model/log_6cls/model.ckpt\n",
      "2022-10-06 14:42:01,950 evaluate [INFO]: Starting the PointNet\n",
      "2022-10-06 14:42:09,955 evaluate [INFO]: Result of Ceiling : 28010\n",
      "2022-10-06 14:42:09,956 evaluate [INFO]: Result of Floor : 78986\n",
      "2022-10-06 14:42:09,957 evaluate [INFO]: Result of Wall : 145097\n",
      "2022-10-06 14:42:09,957 evaluate [INFO]: Result of Window : 0\n",
      "2022-10-06 14:42:09,957 evaluate [INFO]: Result of Door : 363\n",
      "2022-10-06 14:42:09,957 evaluate [INFO]: Result of Clutter : 34264\n",
      "2022-10-06 14:42:09,959 evaluate [INFO]: Finishing the PointNet\n",
      "2022-10-06 14:42:10,510 make_room_info [INFO]: Starting the function to make the room information\n",
      "2022-10-06 14:42:10,510 make_room_info [INFO]: Starting the Clustering function\n",
      "2022-10-06 14:42:16,917 make_room_info [INFO]: Number of Clustered data : 1\n",
      "2022-10-06 14:42:16,918 make_room_info [INFO]: Starting to make the room information from each Cluster data : 1\n",
      "2022-10-06 14:42:53,984 merged_clustered_wall [INFO]: Finish Merging\n",
      "2022-10-06 14:42:53,985 make_room_info [INFO]: Finishing to merge the each wall data with the same plane equation into one: 1\n",
      "2022-10-06 14:42:53,985 make_room_info [INFO]: Starting to get intersection points between each wall 1\n"
     ]
    },
    {
     "name": "stderr",
     "output_type": "stream",
     "text": [
      "No handles with labels found to put in legend.\n",
      "No handles with labels found to put in legend.\n",
      "No handles with labels found to put in legend.\n"
     ]
    },
    {
     "data": {
      "image/png": "[encoded data removed]",
      "text/plain": [
       "<Figure size 432x288 with 1 Axes>"
      ]
     },
     "metadata": {
      "needs_background": "light"
     },
     "output_type": "display_data"
    },
    {
     "name": "stdout",
     "output_type": "stream",
     "text": [
      "WKT data path: ../data/sample_data\\original_data_result\\WKT_RESULT\n"
     ]
    }
   ],
   "source": [
    "args = [\"test\", \"../data/sample_data/original_data.ply\", 0.052, 0.1]\n",
    "wall_cloud, door_cloud, window_cloud = ply_to_CityGML(args)"
   ]
  },
  {
   "cell_type": "code",
   "execution_count": 16,
   "metadata": {},
   "outputs": [],
   "source": [
    "lidar_map = \"E:/visual_localization_test/IndoorLocalization_custom/dataset/pangyo_agit_1f_v3/raw_data/lidar_slam_result/GlobalMap_lotated.pcd\"\n",
    "lidar_map_ply = \"E:/visual_localization_test/IndoorLocalization_custom/dataset/pangyo_agit_1f_v3/raw_data/lidar_slam_result/GlobalMap_lotated.ply\""
   ]
  },
  {
   "cell_type": "code",
   "execution_count": 11,
   "metadata": {},
   "outputs": [],
   "source": [
    "import numpy as np\n",
    "rot_x_degree = 1.9125263597395372\n",
    "rot_y_degree = 5.069226703807043\n",
    "rot_z_degree = -174.5\n",
    "npCloud = point_cloud_to_numpy(lidar_map, lib='pynt')\n",
    "Rot = sc_Rotation.from_euler('xyz',[rot_x_degree,rot_y_degree,rot_z_degree],degrees=True).as_matrix()\n",
    "Rot = np.r_[np.c_[Rot.T, np.zeros((3, 1))], np.array([[0.0, 0.0, 0.0, 1.0]])]\n",
    "# YR = get_rotation_vector_yaxis(rot_y_degree)\n",
    "# XR = get_rotation_vector_xaxis(rot_x_degree)\n",
    "# ZR = get_rotation_vector_zaxis(rot_z_degree)\n",
    "# Rot = np.matmul(XR, YR)\n",
    "# Rot = np.matmul(Rot,ZR)\n",
    "npCloud = np.matmul(npCloud, Rot)"
   ]
  },
  {
   "cell_type": "code",
   "execution_count": 14,
   "metadata": {},
   "outputs": [],
   "source": [
    "pclCloud = display_numpy_cloud_pcl(npCloud[:,:3])"
   ]
  },
  {
   "cell_type": "code",
   "execution_count": 15,
   "metadata": {},
   "outputs": [],
   "source": [
    "pcl.save(pclCloud,\"E:/visual_localization_test/IndoorLocalization_custom/dataset/pangyo_agit_1f_v3/raw_data/lidar_slam_result/GlobalMap_lotated.pcd\")\n",
    "# run command pcl_pcd2ply_release.exe -format O input GlobalMap_lotated.pcd GlobalMap_lotated.ply"
   ]
  },
  {
   "cell_type": "code",
   "execution_count": 17,
   "metadata": {},
   "outputs": [
    {
     "name": "stdout",
     "output_type": "stream",
     "text": [
      "2022-10-03 20:06:25,876 ply_to_CityGML [INFO]: Starting Process\n",
      "['test', 'E:/visual_localization_test/IndoorLocalization_custom/dataset/pangyo_agit_1f_v3/raw_data/lidar_slam_result/GlobalMap_lotated.ply', 0.052, 0.1]\n",
      "Device mapping:\n",
      "/job:localhost/replica:0/task:0/device:XLA_CPU:0 -> device: XLA_CPU device\n",
      "/job:localhost/replica:0/task:0/device:GPU:0 -> device: 0, name: Quadro T2000, pci bus id: 0000:01:00.0, compute capability: 7.5\n",
      "/job:localhost/replica:0/task:0/device:XLA_GPU:0 -> device: XLA_GPU device\n",
      "\n",
      "INFO:tensorflow:Restoring parameters from n:\\work\\SLAM\\src\\PinSout\\src/sem_seg/model/log_6cls/model.ckpt\n",
      "2022-10-03 20:13:19,594 evaluate [INFO]: Starting the PointNet\n",
      "2022-10-03 21:48:47,270 evaluate [INFO]: Result of Ceiling : 8087310\n",
      "2022-10-03 21:48:47,271 evaluate [INFO]: Result of Floor : 2864614\n",
      "2022-10-03 21:48:47,271 evaluate [INFO]: Result of Wall : 1728336\n",
      "2022-10-03 21:48:47,272 evaluate [INFO]: Result of Window : 0\n",
      "2022-10-03 21:48:47,272 evaluate [INFO]: Result of Door : 1031528\n",
      "2022-10-03 21:48:47,274 evaluate [INFO]: Result of Clutter : 5396052\n",
      "2022-10-03 21:48:47,274 evaluate [INFO]: Finishing the PointNet\n",
      "2022-10-03 21:48:59,131 make_room_info [INFO]: Starting the function to make the room information\n",
      "2022-10-03 21:48:59,132 make_room_info [INFO]: Starting the Clustering function\n",
      "2022-10-03 21:49:35,740 make_room_info [INFO]: Number of Clustered data : 4\n",
      "2022-10-03 21:49:35,740 make_room_info [INFO]: Starting to make the room information from each Cluster data : 1\n",
      "2022-10-03 21:57:42,646 merged_clustered_wall [INFO]: Finish Merging\n",
      "2022-10-03 21:57:42,647 make_room_info [INFO]: Finishing to merge the each wall data with the same plane equation into one: 1\n",
      "2022-10-03 21:57:42,647 make_room_info [INFO]: Starting to get intersection points between each wall 1\n",
      "WKT data path: E:/visual_localization_test/IndoorLocalization_custom/dataset/pangyo_agit_1f_v3/raw_data/lidar_slam_result\\GlobalMap_lotated_result\\WKT_RESULT\n",
      "2022-10-03 21:57:42,650 make_room_info [INFO]: Starting to make the room information from each Cluster data : 2\n",
      "2022-10-03 21:57:47,106 merged_clustered_wall [INFO]: Finish Merging\n",
      "2022-10-03 21:57:47,106 make_room_info [INFO]: Finishing to merge the each wall data with the same plane equation into one: 2\n",
      "2022-10-03 21:57:47,107 make_room_info [INFO]: Starting to get intersection points between each wall 2\n",
      "WKT data path: E:/visual_localization_test/IndoorLocalization_custom/dataset/pangyo_agit_1f_v3/raw_data/lidar_slam_result\\GlobalMap_lotated_result\\WKT_RESULT\\WKT_RESULT\n",
      "2022-10-03 21:57:47,344 make_room_info [INFO]: Starting to make the room information from each Cluster data : 3\n",
      "2022-10-03 21:57:49,262 merged_clustered_wall [INFO]: Finish Merging\n",
      "2022-10-03 21:57:49,262 make_room_info [INFO]: Finishing to merge the each wall data with the same plane equation into one: 3\n",
      "2022-10-03 21:57:49,262 make_room_info [INFO]: Starting to make the room information from each Cluster data : 4\n",
      "2022-10-03 21:57:49,283 merged_clustered_wall [INFO]: Finish Merging\n",
      "2022-10-03 21:57:49,284 make_room_info [INFO]: Finishing to merge the each wall data with the same plane equation into one: 4\n"
     ]
    }
   ],
   "source": [
    "args = [\"test\", lidar_map_ply, 0.052, 0.1]\n",
    "wall_cloud, door_cloud, window_cloud = ply_to_CityGML(args)"
   ]
  },
  {
   "cell_type": "code",
   "execution_count": 19,
   "metadata": {},
   "outputs": [],
   "source": [
    "pclCloud = display_numpy_cloud_pcl(wall_cloud)"
   ]
  },
  {
   "cell_type": "code",
   "execution_count": 18,
   "metadata": {},
   "outputs": [],
   "source": [
    "pcl.save(wall_cloud,\"E:/visual_localization_test/IndoorLocalization_custom/dataset/pangyo_agit_1f_v3/raw_data/lidar_slam_result/GlobalMap_lotated_wall.pcd\")"
   ]
  },
  {
   "cell_type": "code",
   "execution_count": 4,
   "metadata": {},
   "outputs": [
    {
     "data": {
      "text/plain": [
       "<PointCloud of 2759864 points>"
      ]
     },
     "execution_count": 4,
     "metadata": {},
     "output_type": "execute_result"
    }
   ],
   "source": [
    "cloud_path = \"E:/visual_localization_test/IndoorLocalization_custom/dataset/pangyo_agit_1f_v3/raw_data/lidar_slam_result/GlobalMap_lotated_wall.pcd\"\n",
    "npCloud = point_cloud_to_numpy(cloud_path, lib='pynt')\n",
    "display_numpy_cloud_pcl(npCloud)"
   ]
  },
  {
   "cell_type": "markdown",
   "metadata": {},
   "source": []
  }
 ],
 "metadata": {
  "kernelspec": {
   "display_name": "Visual Localization",
   "language": "python",
   "name": "visuallocalization"
  },
  "language_info": {
   "codemirror_mode": {
    "name": "ipython",
    "version": 3
   },
   "file_extension": ".py",
   "mimetype": "text/x-python",
   "name": "python",
   "nbconvert_exporter": "python",
   "pygments_lexer": "ipython3",
   "version": "3.7.9"
  },
  "toc": {
   "base_numbering": 1,
   "nav_menu": {},
   "number_sections": true,
   "sideBar": true,
   "skip_h1_title": false,
   "title_cell": "Table of Contents",
   "title_sidebar": "Contents",
   "toc_cell": false,
   "toc_position": {},
   "toc_section_display": true,
   "toc_window_display": false
  },
  "varInspector": {
   "cols": {
    "lenName": 16,
    "lenType": 16,
    "lenVar": 40
   },
   "kernels_config": {
    "python": {
     "delete_cmd_postfix": "",
     "delete_cmd_prefix": "del ",
     "library": "var_list.py",
     "varRefreshCmd": "print(var_dic_list())"
    },
    "r": {
     "delete_cmd_postfix": ") ",
     "delete_cmd_prefix": "rm(",
     "library": "var_list.r",
     "varRefreshCmd": "cat(var_dic_list()) "
    }
   },
   "types_to_exclude": [
    "module",
    "function",
    "builtin_function_or_method",
    "instance",
    "_Feature"
   ],
   "window_display": false
  }
 },
 "nbformat": 4,
 "nbformat_minor": 4
}
